{
  "nbformat": 4,
  "nbformat_minor": 0,
  "metadata": {
    "colab": {
      "provenance": [],
      "include_colab_link": true
    },
    "kernelspec": {
      "name": "python3",
      "display_name": "Python 3"
    },
    "language_info": {
      "name": "python"
    }
  },
  "cells": [
    {
      "cell_type": "markdown",
      "metadata": {
        "id": "view-in-github",
        "colab_type": "text"
      },
      "source": [
        "<a href=\"https://colab.research.google.com/github/Madjogger1202/Team1_AtomicHack2023/blob/main/NH1.ipynb\" target=\"_parent\"><img src=\"https://colab.research.google.com/assets/colab-badge.svg\" alt=\"Open In Colab\"/></a>"
      ]
    },
    {
      "cell_type": "code",
      "source": [
        "!pip install rdkit"
      ],
      "metadata": {
        "colab": {
          "base_uri": "https://localhost:8080/"
        },
        "id": "dE-5kyOgSzlI",
        "outputId": "dc2f572d-515c-4a97-fb9c-f88f7b22d807"
      },
      "execution_count": null,
      "outputs": [
        {
          "output_type": "stream",
          "name": "stdout",
          "text": [
            "Collecting rdkit\n",
            "  Downloading rdkit-2023.3.3-cp310-cp310-manylinux_2_17_x86_64.manylinux2014_x86_64.whl (29.7 MB)\n",
            "\u001b[2K     \u001b[90m━━━━━━━━━━━━━━━━━━━━━━━━━━━━━━━━━━━━━━━━\u001b[0m \u001b[32m29.7/29.7 MB\u001b[0m \u001b[31m70.6 MB/s\u001b[0m eta \u001b[36m0:00:00\u001b[0m\n",
            "\u001b[?25hRequirement already satisfied: numpy in /usr/local/lib/python3.10/dist-packages (from rdkit) (1.23.5)\n",
            "Requirement already satisfied: Pillow in /usr/local/lib/python3.10/dist-packages (from rdkit) (9.4.0)\n",
            "Installing collected packages: rdkit\n",
            "Successfully installed rdkit-2023.3.3\n"
          ]
        }
      ]
    },
    {
      "cell_type": "code",
      "source": [
        "!python -m pip install git+https://github.com/EBjerrum/molvecgen"
      ],
      "metadata": {
        "colab": {
          "base_uri": "https://localhost:8080/"
        },
        "id": "NK3B5jEOHUDf",
        "outputId": "ab67d155-9d4d-410a-8b4e-faccb6d4449d"
      },
      "execution_count": null,
      "outputs": [
        {
          "output_type": "stream",
          "name": "stdout",
          "text": [
            "Collecting git+https://github.com/EBjerrum/molvecgen\n",
            "  Cloning https://github.com/EBjerrum/molvecgen to /tmp/pip-req-build-i184sk2_\n",
            "  Running command git clone --filter=blob:none --quiet https://github.com/EBjerrum/molvecgen /tmp/pip-req-build-i184sk2_\n",
            "  Resolved https://github.com/EBjerrum/molvecgen to commit f81d5aade18bea60882f5845877f6283366bbe91\n",
            "  Preparing metadata (setup.py) ... \u001b[?25l\u001b[?25hdone\n",
            "Requirement already satisfied: numpy in /usr/local/lib/python3.10/dist-packages (from molvecgen==0.1) (1.23.5)\n",
            "Building wheels for collected packages: molvecgen\n",
            "  Building wheel for molvecgen (setup.py) ... \u001b[?25l\u001b[?25hdone\n",
            "  Created wheel for molvecgen: filename=molvecgen-0.1-py3-none-any.whl size=11357 sha256=eddc283846e1a27788f811f6b8d442a09afd4c37e479ee1cec3fea929dbf6676\n",
            "  Stored in directory: /tmp/pip-ephem-wheel-cache-tz7uf3sh/wheels/1c/de/14/fd9892b48271e63e56b00c7015c754ae6189e258fa313a7c63\n",
            "Successfully built molvecgen\n",
            "Installing collected packages: molvecgen\n",
            "Successfully installed molvecgen-0.1\n"
          ]
        }
      ]
    },
    {
      "cell_type": "code",
      "source": [
        "!pip install umap"
      ],
      "metadata": {
        "colab": {
          "base_uri": "https://localhost:8080/"
        },
        "id": "hmv4ocyzi4Mn",
        "outputId": "75e61546-b5b1-41ee-d869-100f15eb7e0b"
      },
      "execution_count": null,
      "outputs": [
        {
          "output_type": "stream",
          "name": "stdout",
          "text": [
            "Collecting umap\n",
            "  Downloading umap-0.1.1.tar.gz (3.2 kB)\n",
            "  Preparing metadata (setup.py) ... \u001b[?25l\u001b[?25hdone\n",
            "Building wheels for collected packages: umap\n",
            "  Building wheel for umap (setup.py) ... \u001b[?25l\u001b[?25hdone\n",
            "  Created wheel for umap: filename=umap-0.1.1-py3-none-any.whl size=3541 sha256=104a7a3bb600353575bd1d8f7afabd6e3838dacab710491027c1659a1f3f52a9\n",
            "  Stored in directory: /root/.cache/pip/wheels/15/f1/28/53dcf7a309118ed35d810a5f9cb995217800f3f269ab5771cb\n",
            "Successfully built umap\n",
            "Installing collected packages: umap\n",
            "Successfully installed umap-0.1.1\n"
          ]
        }
      ]
    },
    {
      "cell_type": "code",
      "execution_count": null,
      "metadata": {
        "id": "yBfhJHFSPF2E"
      },
      "outputs": [],
      "source": [
        "import pandas as pd\n",
        "import numpy as np\n",
        "import matplotlib.pyplot as plt\n",
        "import seaborn as sns\n",
        "from rdkit import Chem, DataStructs\n",
        "from rdkit.Chem import PandasTools, AllChem, Descriptors\n",
        "from sklearn.preprocessing import StandardScaler\n",
        "from sklearn.model_selection import train_test_split\n",
        "from sklearn.preprocessing import FunctionTransformer\n",
        "from sklearn.decomposition import PCA\n",
        "import torch\n",
        "import torch.nn as nn\n",
        "from torch.utils.data import Dataset\n",
        "from torch.optim.lr_scheduler import ReduceLROnPlateau\n",
        "from molvecgen.vectorizers import SmilesVectorizer\n",
        "from sklearn.linear_model import LogisticRegression\n",
        "from sklearn.linear_model import LinearRegression\n",
        "from sklearn.metrics import r2_score, d2_absolute_error_score\n",
        "from sklearn. linear_model import LassoCV\n",
        "from sklearn. model_selection import RepeatedKFold\n",
        "import umap\n",
        "from sklearn.manifold import TSNE\n",
        "from sklearn import datasets, ensemble\n",
        "from sklearn.inspection import permutation_importance\n",
        "from sklearn.metrics import mean_squared_error"
      ]
    },
    {
      "cell_type": "code",
      "source": [
        "from google.colab import drive\n",
        "drive.mount('/content/drive')"
      ],
      "metadata": {
        "colab": {
          "base_uri": "https://localhost:8080/"
        },
        "id": "gkxtgM1AS7ag",
        "outputId": "b84a386a-15b8-4eb9-865c-b1b0cb9ca728"
      },
      "execution_count": null,
      "outputs": [
        {
          "output_type": "stream",
          "name": "stdout",
          "text": [
            "Mounted at /content/drive\n"
          ]
        }
      ]
    },
    {
      "cell_type": "code",
      "source": [
        "df = pd.read_excel('/content/drive/MyDrive/Chem/1400.xlsx')"
      ],
      "metadata": {
        "id": "nojj0nMksiYS"
      },
      "execution_count": null,
      "outputs": []
    },
    {
      "cell_type": "code",
      "source": [
        "df = df[df.SI <= 100]\n",
        "df = df[df['IC50, mmg/ml'] < 310]\n",
        "df = df[df['SMILES'].str.len () < 134]\n",
        "data = df\n",
        "data.dropna()\n",
        "data"
      ],
      "metadata": {
        "colab": {
          "base_uri": "https://localhost:8080/",
          "height": 652
        },
        "id": "VtAKEmOavdLl",
        "outputId": "0f9e551a-314c-4c62-8fd4-13c9051f0192"
      },
      "execution_count": null,
      "outputs": [
        {
          "output_type": "execute_result",
          "data": {
            "text/plain": [
              "              Title  IC50, mmg/ml  CC50-MDCK, mmg/ml         SI  \\\n",
              "2       1008-Ya-187           9.9              144.0  14.545455   \n",
              "3       1009-As-106           8.3              500.0  60.240964   \n",
              "4       1010-Ya-208          39.4              143.0   3.629442   \n",
              "5        1011-As-83          25.8              500.0  19.379845   \n",
              "6       1012-Ya-201          39.4              498.0  12.639594   \n",
              "...             ...           ...                ...        ...   \n",
              "1459  CHEMBL4288514         300.3              300.3   1.000000   \n",
              "1460  CHEMBL4240549          13.2              448.3  34.000000   \n",
              "1461  CHEMBL3186705          24.0              330.5  13.800000   \n",
              "1462  CHEMBL4248255          16.7              492.7  29.600000   \n",
              "1463  CHEMBL4251117           7.3              530.6  72.800000   \n",
              "\n",
              "      Molecular weight  Hydrogen bond acceptors  Hydrogen bond donors  \\\n",
              "2              250.431                        1                     0   \n",
              "3              222.377                        1                     0   \n",
              "4              239.361                        2                     0   \n",
              "5              265.466                        1                     0   \n",
              "6              279.493                        1                     0   \n",
              "...                ...                      ...                   ...   \n",
              "1459           159.187                        3                     0   \n",
              "1460           224.303                        3                     0   \n",
              "1461           154.254                        1                     1   \n",
              "1462           224.303                        3                     1   \n",
              "1463           238.330                        3                     0   \n",
              "\n",
              "      Polar SA                                            SMILES  Pictures  \n",
              "2        15.60         CCN(CC)CC\\N=C(\\[C@@]12C)C[C@H](C1(C)C)CC2      52.0  \n",
              "3        15.60           CN(C)CC\\N=C(\\[C@@]12C)C[C@H](C1(C)C)CC2      53.0  \n",
              "4        29.54      CN(C)CC(=O)O[C@H]1C[C@H](CC2)C(C)(C)[C@@]12C      54.0  \n",
              "5        12.36   CC[N+](C)(CC)CC\\N=C(\\[C@]12C)C[C@@H](C1(C)C)CC2      55.0  \n",
              "6        12.36  CC[N+](CC)(CC)CC\\N=C(\\[C@]12C)C[C@@H](C1(C)C)CC2      56.0  \n",
              "...        ...                                               ...       ...  \n",
              "1459     38.77                                  COC(=O)CN1CCOCC1       NaN  \n",
              "1460     39.44                       CC(C)CCCc1c(OC)c(C)c(=O)oc1       NaN  \n",
              "1461     20.23                 C[C@]12C(C)(C)[C@@H](CC2)C[C@H]1O       NaN  \n",
              "1462     50.44                         CCCCCCCc1c(O)c(C)c(=O)oc1       NaN  \n",
              "1463     39.44                        CCCCCCCc1c(OC)c(C)c(=O)oc1       NaN  \n",
              "\n",
              "[1211 rows x 10 columns]"
            ],
            "text/html": [
              "\n",
              "  <div id=\"df-88d4af1e-de06-4485-bd59-dfbf63866aea\" class=\"colab-df-container\">\n",
              "    <div>\n",
              "<style scoped>\n",
              "    .dataframe tbody tr th:only-of-type {\n",
              "        vertical-align: middle;\n",
              "    }\n",
              "\n",
              "    .dataframe tbody tr th {\n",
              "        vertical-align: top;\n",
              "    }\n",
              "\n",
              "    .dataframe thead th {\n",
              "        text-align: right;\n",
              "    }\n",
              "</style>\n",
              "<table border=\"1\" class=\"dataframe\">\n",
              "  <thead>\n",
              "    <tr style=\"text-align: right;\">\n",
              "      <th></th>\n",
              "      <th>Title</th>\n",
              "      <th>IC50, mmg/ml</th>\n",
              "      <th>CC50-MDCK, mmg/ml</th>\n",
              "      <th>SI</th>\n",
              "      <th>Molecular weight</th>\n",
              "      <th>Hydrogen bond acceptors</th>\n",
              "      <th>Hydrogen bond donors</th>\n",
              "      <th>Polar SA</th>\n",
              "      <th>SMILES</th>\n",
              "      <th>Pictures</th>\n",
              "    </tr>\n",
              "  </thead>\n",
              "  <tbody>\n",
              "    <tr>\n",
              "      <th>2</th>\n",
              "      <td>1008-Ya-187</td>\n",
              "      <td>9.9</td>\n",
              "      <td>144.0</td>\n",
              "      <td>14.545455</td>\n",
              "      <td>250.431</td>\n",
              "      <td>1</td>\n",
              "      <td>0</td>\n",
              "      <td>15.60</td>\n",
              "      <td>CCN(CC)CC\\N=C(\\[C@@]12C)C[C@H](C1(C)C)CC2</td>\n",
              "      <td>52.0</td>\n",
              "    </tr>\n",
              "    <tr>\n",
              "      <th>3</th>\n",
              "      <td>1009-As-106</td>\n",
              "      <td>8.3</td>\n",
              "      <td>500.0</td>\n",
              "      <td>60.240964</td>\n",
              "      <td>222.377</td>\n",
              "      <td>1</td>\n",
              "      <td>0</td>\n",
              "      <td>15.60</td>\n",
              "      <td>CN(C)CC\\N=C(\\[C@@]12C)C[C@H](C1(C)C)CC2</td>\n",
              "      <td>53.0</td>\n",
              "    </tr>\n",
              "    <tr>\n",
              "      <th>4</th>\n",
              "      <td>1010-Ya-208</td>\n",
              "      <td>39.4</td>\n",
              "      <td>143.0</td>\n",
              "      <td>3.629442</td>\n",
              "      <td>239.361</td>\n",
              "      <td>2</td>\n",
              "      <td>0</td>\n",
              "      <td>29.54</td>\n",
              "      <td>CN(C)CC(=O)O[C@H]1C[C@H](CC2)C(C)(C)[C@@]12C</td>\n",
              "      <td>54.0</td>\n",
              "    </tr>\n",
              "    <tr>\n",
              "      <th>5</th>\n",
              "      <td>1011-As-83</td>\n",
              "      <td>25.8</td>\n",
              "      <td>500.0</td>\n",
              "      <td>19.379845</td>\n",
              "      <td>265.466</td>\n",
              "      <td>1</td>\n",
              "      <td>0</td>\n",
              "      <td>12.36</td>\n",
              "      <td>CC[N+](C)(CC)CC\\N=C(\\[C@]12C)C[C@@H](C1(C)C)CC2</td>\n",
              "      <td>55.0</td>\n",
              "    </tr>\n",
              "    <tr>\n",
              "      <th>6</th>\n",
              "      <td>1012-Ya-201</td>\n",
              "      <td>39.4</td>\n",
              "      <td>498.0</td>\n",
              "      <td>12.639594</td>\n",
              "      <td>279.493</td>\n",
              "      <td>1</td>\n",
              "      <td>0</td>\n",
              "      <td>12.36</td>\n",
              "      <td>CC[N+](CC)(CC)CC\\N=C(\\[C@]12C)C[C@@H](C1(C)C)CC2</td>\n",
              "      <td>56.0</td>\n",
              "    </tr>\n",
              "    <tr>\n",
              "      <th>...</th>\n",
              "      <td>...</td>\n",
              "      <td>...</td>\n",
              "      <td>...</td>\n",
              "      <td>...</td>\n",
              "      <td>...</td>\n",
              "      <td>...</td>\n",
              "      <td>...</td>\n",
              "      <td>...</td>\n",
              "      <td>...</td>\n",
              "      <td>...</td>\n",
              "    </tr>\n",
              "    <tr>\n",
              "      <th>1459</th>\n",
              "      <td>CHEMBL4288514</td>\n",
              "      <td>300.3</td>\n",
              "      <td>300.3</td>\n",
              "      <td>1.000000</td>\n",
              "      <td>159.187</td>\n",
              "      <td>3</td>\n",
              "      <td>0</td>\n",
              "      <td>38.77</td>\n",
              "      <td>COC(=O)CN1CCOCC1</td>\n",
              "      <td>NaN</td>\n",
              "    </tr>\n",
              "    <tr>\n",
              "      <th>1460</th>\n",
              "      <td>CHEMBL4240549</td>\n",
              "      <td>13.2</td>\n",
              "      <td>448.3</td>\n",
              "      <td>34.000000</td>\n",
              "      <td>224.303</td>\n",
              "      <td>3</td>\n",
              "      <td>0</td>\n",
              "      <td>39.44</td>\n",
              "      <td>CC(C)CCCc1c(OC)c(C)c(=O)oc1</td>\n",
              "      <td>NaN</td>\n",
              "    </tr>\n",
              "    <tr>\n",
              "      <th>1461</th>\n",
              "      <td>CHEMBL3186705</td>\n",
              "      <td>24.0</td>\n",
              "      <td>330.5</td>\n",
              "      <td>13.800000</td>\n",
              "      <td>154.254</td>\n",
              "      <td>1</td>\n",
              "      <td>1</td>\n",
              "      <td>20.23</td>\n",
              "      <td>C[C@]12C(C)(C)[C@@H](CC2)C[C@H]1O</td>\n",
              "      <td>NaN</td>\n",
              "    </tr>\n",
              "    <tr>\n",
              "      <th>1462</th>\n",
              "      <td>CHEMBL4248255</td>\n",
              "      <td>16.7</td>\n",
              "      <td>492.7</td>\n",
              "      <td>29.600000</td>\n",
              "      <td>224.303</td>\n",
              "      <td>3</td>\n",
              "      <td>1</td>\n",
              "      <td>50.44</td>\n",
              "      <td>CCCCCCCc1c(O)c(C)c(=O)oc1</td>\n",
              "      <td>NaN</td>\n",
              "    </tr>\n",
              "    <tr>\n",
              "      <th>1463</th>\n",
              "      <td>CHEMBL4251117</td>\n",
              "      <td>7.3</td>\n",
              "      <td>530.6</td>\n",
              "      <td>72.800000</td>\n",
              "      <td>238.330</td>\n",
              "      <td>3</td>\n",
              "      <td>0</td>\n",
              "      <td>39.44</td>\n",
              "      <td>CCCCCCCc1c(OC)c(C)c(=O)oc1</td>\n",
              "      <td>NaN</td>\n",
              "    </tr>\n",
              "  </tbody>\n",
              "</table>\n",
              "<p>1211 rows × 10 columns</p>\n",
              "</div>\n",
              "    <div class=\"colab-df-buttons\">\n",
              "\n",
              "  <div class=\"colab-df-container\">\n",
              "    <button class=\"colab-df-convert\" onclick=\"convertToInteractive('df-88d4af1e-de06-4485-bd59-dfbf63866aea')\"\n",
              "            title=\"Convert this dataframe to an interactive table.\"\n",
              "            style=\"display:none;\">\n",
              "\n",
              "  <svg xmlns=\"http://www.w3.org/2000/svg\" height=\"24px\" viewBox=\"0 -960 960 960\">\n",
              "    <path d=\"M120-120v-720h720v720H120Zm60-500h600v-160H180v160Zm220 220h160v-160H400v160Zm0 220h160v-160H400v160ZM180-400h160v-160H180v160Zm440 0h160v-160H620v160ZM180-180h160v-160H180v160Zm440 0h160v-160H620v160Z\"/>\n",
              "  </svg>\n",
              "    </button>\n",
              "\n",
              "  <style>\n",
              "    .colab-df-container {\n",
              "      display:flex;\n",
              "      gap: 12px;\n",
              "    }\n",
              "\n",
              "    .colab-df-convert {\n",
              "      background-color: #E8F0FE;\n",
              "      border: none;\n",
              "      border-radius: 50%;\n",
              "      cursor: pointer;\n",
              "      display: none;\n",
              "      fill: #1967D2;\n",
              "      height: 32px;\n",
              "      padding: 0 0 0 0;\n",
              "      width: 32px;\n",
              "    }\n",
              "\n",
              "    .colab-df-convert:hover {\n",
              "      background-color: #E2EBFA;\n",
              "      box-shadow: 0px 1px 2px rgba(60, 64, 67, 0.3), 0px 1px 3px 1px rgba(60, 64, 67, 0.15);\n",
              "      fill: #174EA6;\n",
              "    }\n",
              "\n",
              "    .colab-df-buttons div {\n",
              "      margin-bottom: 4px;\n",
              "    }\n",
              "\n",
              "    [theme=dark] .colab-df-convert {\n",
              "      background-color: #3B4455;\n",
              "      fill: #D2E3FC;\n",
              "    }\n",
              "\n",
              "    [theme=dark] .colab-df-convert:hover {\n",
              "      background-color: #434B5C;\n",
              "      box-shadow: 0px 1px 3px 1px rgba(0, 0, 0, 0.15);\n",
              "      filter: drop-shadow(0px 1px 2px rgba(0, 0, 0, 0.3));\n",
              "      fill: #FFFFFF;\n",
              "    }\n",
              "  </style>\n",
              "\n",
              "    <script>\n",
              "      const buttonEl =\n",
              "        document.querySelector('#df-88d4af1e-de06-4485-bd59-dfbf63866aea button.colab-df-convert');\n",
              "      buttonEl.style.display =\n",
              "        google.colab.kernel.accessAllowed ? 'block' : 'none';\n",
              "\n",
              "      async function convertToInteractive(key) {\n",
              "        const element = document.querySelector('#df-88d4af1e-de06-4485-bd59-dfbf63866aea');\n",
              "        const dataTable =\n",
              "          await google.colab.kernel.invokeFunction('convertToInteractive',\n",
              "                                                    [key], {});\n",
              "        if (!dataTable) return;\n",
              "\n",
              "        const docLinkHtml = 'Like what you see? Visit the ' +\n",
              "          '<a target=\"_blank\" href=https://colab.research.google.com/notebooks/data_table.ipynb>data table notebook</a>'\n",
              "          + ' to learn more about interactive tables.';\n",
              "        element.innerHTML = '';\n",
              "        dataTable['output_type'] = 'display_data';\n",
              "        await google.colab.output.renderOutput(dataTable, element);\n",
              "        const docLink = document.createElement('div');\n",
              "        docLink.innerHTML = docLinkHtml;\n",
              "        element.appendChild(docLink);\n",
              "      }\n",
              "    </script>\n",
              "  </div>\n",
              "\n",
              "\n",
              "<div id=\"df-77d31041-0da8-4663-897f-ae09ccd288ed\">\n",
              "  <button class=\"colab-df-quickchart\" onclick=\"quickchart('df-77d31041-0da8-4663-897f-ae09ccd288ed')\"\n",
              "            title=\"Suggest charts.\"\n",
              "            style=\"display:none;\">\n",
              "\n",
              "<svg xmlns=\"http://www.w3.org/2000/svg\" height=\"24px\"viewBox=\"0 0 24 24\"\n",
              "     width=\"24px\">\n",
              "    <g>\n",
              "        <path d=\"M19 3H5c-1.1 0-2 .9-2 2v14c0 1.1.9 2 2 2h14c1.1 0 2-.9 2-2V5c0-1.1-.9-2-2-2zM9 17H7v-7h2v7zm4 0h-2V7h2v10zm4 0h-2v-4h2v4z\"/>\n",
              "    </g>\n",
              "</svg>\n",
              "  </button>\n",
              "\n",
              "<style>\n",
              "  .colab-df-quickchart {\n",
              "      --bg-color: #E8F0FE;\n",
              "      --fill-color: #1967D2;\n",
              "      --hover-bg-color: #E2EBFA;\n",
              "      --hover-fill-color: #174EA6;\n",
              "      --disabled-fill-color: #AAA;\n",
              "      --disabled-bg-color: #DDD;\n",
              "  }\n",
              "\n",
              "  [theme=dark] .colab-df-quickchart {\n",
              "      --bg-color: #3B4455;\n",
              "      --fill-color: #D2E3FC;\n",
              "      --hover-bg-color: #434B5C;\n",
              "      --hover-fill-color: #FFFFFF;\n",
              "      --disabled-bg-color: #3B4455;\n",
              "      --disabled-fill-color: #666;\n",
              "  }\n",
              "\n",
              "  .colab-df-quickchart {\n",
              "    background-color: var(--bg-color);\n",
              "    border: none;\n",
              "    border-radius: 50%;\n",
              "    cursor: pointer;\n",
              "    display: none;\n",
              "    fill: var(--fill-color);\n",
              "    height: 32px;\n",
              "    padding: 0;\n",
              "    width: 32px;\n",
              "  }\n",
              "\n",
              "  .colab-df-quickchart:hover {\n",
              "    background-color: var(--hover-bg-color);\n",
              "    box-shadow: 0 1px 2px rgba(60, 64, 67, 0.3), 0 1px 3px 1px rgba(60, 64, 67, 0.15);\n",
              "    fill: var(--button-hover-fill-color);\n",
              "  }\n",
              "\n",
              "  .colab-df-quickchart-complete:disabled,\n",
              "  .colab-df-quickchart-complete:disabled:hover {\n",
              "    background-color: var(--disabled-bg-color);\n",
              "    fill: var(--disabled-fill-color);\n",
              "    box-shadow: none;\n",
              "  }\n",
              "\n",
              "  .colab-df-spinner {\n",
              "    border: 2px solid var(--fill-color);\n",
              "    border-color: transparent;\n",
              "    border-bottom-color: var(--fill-color);\n",
              "    animation:\n",
              "      spin 1s steps(1) infinite;\n",
              "  }\n",
              "\n",
              "  @keyframes spin {\n",
              "    0% {\n",
              "      border-color: transparent;\n",
              "      border-bottom-color: var(--fill-color);\n",
              "      border-left-color: var(--fill-color);\n",
              "    }\n",
              "    20% {\n",
              "      border-color: transparent;\n",
              "      border-left-color: var(--fill-color);\n",
              "      border-top-color: var(--fill-color);\n",
              "    }\n",
              "    30% {\n",
              "      border-color: transparent;\n",
              "      border-left-color: var(--fill-color);\n",
              "      border-top-color: var(--fill-color);\n",
              "      border-right-color: var(--fill-color);\n",
              "    }\n",
              "    40% {\n",
              "      border-color: transparent;\n",
              "      border-right-color: var(--fill-color);\n",
              "      border-top-color: var(--fill-color);\n",
              "    }\n",
              "    60% {\n",
              "      border-color: transparent;\n",
              "      border-right-color: var(--fill-color);\n",
              "    }\n",
              "    80% {\n",
              "      border-color: transparent;\n",
              "      border-right-color: var(--fill-color);\n",
              "      border-bottom-color: var(--fill-color);\n",
              "    }\n",
              "    90% {\n",
              "      border-color: transparent;\n",
              "      border-bottom-color: var(--fill-color);\n",
              "    }\n",
              "  }\n",
              "</style>\n",
              "\n",
              "  <script>\n",
              "    async function quickchart(key) {\n",
              "      const quickchartButtonEl =\n",
              "        document.querySelector('#' + key + ' button');\n",
              "      quickchartButtonEl.disabled = true;  // To prevent multiple clicks.\n",
              "      quickchartButtonEl.classList.add('colab-df-spinner');\n",
              "      try {\n",
              "        const charts = await google.colab.kernel.invokeFunction(\n",
              "            'suggestCharts', [key], {});\n",
              "      } catch (error) {\n",
              "        console.error('Error during call to suggestCharts:', error);\n",
              "      }\n",
              "      quickchartButtonEl.classList.remove('colab-df-spinner');\n",
              "      quickchartButtonEl.classList.add('colab-df-quickchart-complete');\n",
              "    }\n",
              "    (() => {\n",
              "      let quickchartButtonEl =\n",
              "        document.querySelector('#df-77d31041-0da8-4663-897f-ae09ccd288ed button');\n",
              "      quickchartButtonEl.style.display =\n",
              "        google.colab.kernel.accessAllowed ? 'block' : 'none';\n",
              "    })();\n",
              "  </script>\n",
              "</div>\n",
              "    </div>\n",
              "  </div>\n"
            ]
          },
          "metadata": {},
          "execution_count": 7
        }
      ]
    },
    {
      "cell_type": "code",
      "source": [
        "lable = data['SMILES'][100:108].astype(str) + '\\nSI = '+ data['SI'][100:108].astype(str)\n",
        "mol_list = [Chem.MolFromSmiles(s) for s in data['SMILES'][100:108]]\n",
        "def mol_dsc_calc(mols):\n",
        "    return pd.DataFrame({k: f(Chem.MolFromSmiles(m)) for k, f in descriptors.items()} for m in mols)\n",
        "\n",
        "# ++список конституционных и физико-химических дескрипторов из библиотеки RDKit\n",
        "descriptors = {\"HeavyAtomCount\": Descriptors.HeavyAtomCount,\n",
        "               \"NHOHCount\": Descriptors.NHOHCount,\n",
        "               \"NOCount\": Descriptors.NOCount,\n",
        "               \"NumHAcceptors\": Descriptors.NumHAcceptors,\n",
        "               \"NumHDonors\": Descriptors.NumHDonors,\n",
        "               \"NumHeteroatoms\": Descriptors.NumHeteroatoms,\n",
        "               \"NumRotatableBonds\": Descriptors.NumRotatableBonds,\n",
        "               \"NumValenceElectrons\": Descriptors.NumValenceElectrons,\n",
        "               \"NumAromaticRings\": Descriptors.NumAromaticRings,\n",
        "               \"NumAliphaticHeterocycles\": Descriptors.NumAliphaticHeterocycles,\n",
        "               \"RingCount\": Descriptors.RingCount,\n",
        "               \"MW\": Descriptors.MolWt,\n",
        "               \"LogP\": Descriptors.MolLogP,\n",
        "               \"MR\": Descriptors.MolMR,\n",
        "               \"TPSA\": Descriptors.TPSA,\n",
        "\n",
        "               \"MaxEStateIndex\": Descriptors.MaxEStateIndex,\n",
        "               \"MinEStateIndex\": Descriptors.MinEStateIndex,\n",
        "               \"MaxAbsEStateIndex\": Descriptors.MaxAbsEStateIndex,\n",
        "               \"MinAbsEStateIndex\": Descriptors.MinAbsEStateIndex,\n",
        "               \"qed\": Descriptors.qed,\n",
        "               \"MolWt\": Descriptors.MolWt,\n",
        "               \"HeavyAtomMolWt\": Descriptors.HeavyAtomMolWt,\n",
        "               \"ExactMolWt\": Descriptors.ExactMolWt,\n",
        "               \"MaxPartialCharge\": Descriptors.MaxPartialCharge,\n",
        "               \"MinPartialCharge\": Descriptors.MinPartialCharge,\n",
        "               \"MaxAbsPartialCharge\": Descriptors.MaxAbsPartialCharge,\n",
        "               \"MinAbsPartialCharge\": Descriptors.MinAbsPartialCharge,\n",
        "               \"FpDensityMorgan1\": Descriptors.FpDensityMorgan1,\n",
        "               \"FpDensityMorgan2\": Descriptors.FpDensityMorgan2,\n",
        "               \"FpDensityMorgan3\": Descriptors.FpDensityMorgan3,\n",
        "               \"BCUT2D_MWHI\": Descriptors.BCUT2D_MWHI,\n",
        "               \"BCUT2D_MWLOW\": Descriptors.BCUT2D_MWLOW,\n",
        "               \"BCUT2D_CHGHI\": Descriptors.BCUT2D_CHGHI,\n",
        "               \"BCUT2D_CHGLO\": Descriptors.BCUT2D_CHGLO,\n",
        "               \"BCUT2D_LOGPHI\": Descriptors.BCUT2D_LOGPHI,\n",
        "               \"BCUT2D_LOGPLOW\": Descriptors.BCUT2D_LOGPLOW,\n",
        "               \"BCUT2D_MRHI\": Descriptors.BCUT2D_MRHI,\n",
        "               \"BCUT2D_MRLOW\": Descriptors.BCUT2D_MRLOW,\n",
        "               \"BalabanJ\": Descriptors.BalabanJ,\n",
        "               \"BertzCT\": Descriptors.BertzCT,\n",
        "               \"Chi0\": Descriptors.Chi0,\n",
        "               \"Chi0n\": Descriptors.Chi0n,\n",
        "               \"Chi0v\": Descriptors.Chi0v,\n",
        "               \"Chi1\": Descriptors.Chi1,\n",
        "               \"Chi1n\": Descriptors.Chi1n,\n",
        "               \"Chi1v\": Descriptors.Chi1v,\n",
        "               #\"Chi2\": Descriptors.Chi2,\n",
        "               \"Chi2n\": Descriptors.Chi2n,\n",
        "               \"Chi2v\": Descriptors.Chi2v,\n",
        "               #\"Chi3\": Descriptors.Chi3,\n",
        "               \"Chi3n\": Descriptors.Chi3n,\n",
        "               \"Chi3v\": Descriptors.Chi3v,\n",
        "               #\"Chi4\": Descriptors.Chi4,\n",
        "               \"Chi4n\": Descriptors.Chi4n,\n",
        "               \"Chi4v\": Descriptors.Chi4v,\n",
        "               \"HallKierAlpha\": Descriptors.HallKierAlpha,\n",
        "               \"Ipc\": Descriptors.Ipc,\n",
        "               \"Kappa1\": Descriptors.Kappa1,\n",
        "               \"Kappa2\": Descriptors.Kappa2,\n",
        "               \"Kappa3\": Descriptors.Kappa3,\n",
        "               \"LabuteASA\": Descriptors.LabuteASA,\n",
        "               \"PEOE_VSA1\": Descriptors.PEOE_VSA1,\n",
        "               \"PEOE_VSA10\": Descriptors.PEOE_VSA10,\n",
        "               \"PEOE_VSA11\": Descriptors.PEOE_VSA11,\n",
        "               \"PEOE_VSA12\": Descriptors.PEOE_VSA12,\n",
        "               \"PEOE_VSA13\": Descriptors.PEOE_VSA13,\n",
        "               \"PEOE_VSA14\": Descriptors.PEOE_VSA14,\n",
        "               \"PEOE_VSA2\": Descriptors.PEOE_VSA2,\n",
        "               \"PEOE_VSA3\": Descriptors.PEOE_VSA3,\n",
        "               \"PEOE_VSA4\": Descriptors.PEOE_VSA4,\n",
        "               \"PEOE_VSA5\": Descriptors.PEOE_VSA5,\n",
        "               \"PEOE_VSA6\": Descriptors.PEOE_VSA6,\n",
        "               \"PEOE_VSA7\": Descriptors.PEOE_VSA7,\n",
        "               \"PEOE_VSA8\": Descriptors.PEOE_VSA8,\n",
        "               \"PEOE_VSA9\": Descriptors.PEOE_VSA9,\n",
        "               \"SMR_VSA1\": Descriptors.SMR_VSA1,\n",
        "               \"SMR_VSA10\": Descriptors.SMR_VSA10,\n",
        "               \"SMR_VSA2\": Descriptors.SMR_VSA2,\n",
        "               \"SMR_VSA3\": Descriptors.SMR_VSA3,\n",
        "               \"SMR_VSA4\": Descriptors.SMR_VSA4,\n",
        "               \"SMR_VSA5\": Descriptors.SMR_VSA5,\n",
        "               \"SMR_VSA6\": Descriptors.SMR_VSA6,\n",
        "               \"SMR_VSA7\": Descriptors.SMR_VSA7,\n",
        "               \"SMR_VSA8\": Descriptors.SMR_VSA8,\n",
        "               \"SMR_VSA9\": Descriptors.SMR_VSA9,\n",
        "               \"SlogP_VSA1\": Descriptors.SlogP_VSA1,\n",
        "               \"SlogP_VSA10\": Descriptors.SlogP_VSA10,\n",
        "               \"SlogP_VSA11\": Descriptors.SlogP_VSA11,\n",
        "               \"SlogP_VSA12\": Descriptors.SlogP_VSA12,\n",
        "               \"SlogP_VSA2\": Descriptors.SlogP_VSA2,\n",
        "               \"SlogP_VSA3\": Descriptors.SlogP_VSA3,\n",
        "               \"SlogP_VSA4\": Descriptors.SlogP_VSA4,\n",
        "               \"SlogP_VSA5\": Descriptors.SlogP_VSA5,\n",
        "               \"SlogP_VSA6\": Descriptors.SlogP_VSA6,\n",
        "               \"SlogP_VSA7\": Descriptors.SlogP_VSA7,\n",
        "               \"SlogP_VSA8\": Descriptors.SlogP_VSA8,\n",
        "               \"SlogP_VSA9\": Descriptors.SlogP_VSA9,\n",
        "               \"EState_VSA1\": Descriptors.EState_VSA1,\n",
        "               \"EState_VSA10\": Descriptors.EState_VSA10,\n",
        "               \"EState_VSA11\": Descriptors.EState_VSA11,\n",
        "               \"EState_VSA2\": Descriptors.EState_VSA2,\n",
        "               \"EState_VSA3\": Descriptors.EState_VSA3,\n",
        "               \"EState_VSA4\": Descriptors.EState_VSA4,\n",
        "               \"EState_VSA5\": Descriptors.EState_VSA5,\n",
        "               \"EState_VSA6\": Descriptors.EState_VSA6,\n",
        "               \"EState_VSA7\": Descriptors.EState_VSA7,\n",
        "               \"EState_VSA8\": Descriptors.EState_VSA8,\n",
        "               \"EState_VSA9\": Descriptors.EState_VSA9,\n",
        "               \"VSA_EState1\": Descriptors.VSA_EState1,\n",
        "               \"VSA_EState10\": Descriptors.VSA_EState10,\n",
        "               \"VSA_EState2\": Descriptors.VSA_EState2,\n",
        "               \"VSA_EState3\": Descriptors.VSA_EState3,\n",
        "               \"VSA_EState4\": Descriptors.VSA_EState4,\n",
        "               \"VSA_EState5\": Descriptors.VSA_EState5,\n",
        "               \"VSA_EState6\": Descriptors.VSA_EState6,\n",
        "               \"VSA_EState7\": Descriptors.VSA_EState7,\n",
        "               \"VSA_EState8\": Descriptors.VSA_EState8,\n",
        "               \"VSA_EState9\": Descriptors.VSA_EState9,\n",
        "               \"FractionCSP3\": Descriptors.FractionCSP3,\n",
        "               \"fr_Al_COO\": Descriptors.fr_Al_COO,\n",
        "               \"fr_Al_OH\": Descriptors.fr_Al_OH,\n",
        "               \"fr_Al_OH_noTert\": Descriptors.fr_Al_OH_noTert,\n",
        "               \"fr_ArN\": Descriptors.fr_ArN,\n",
        "               \"fr_Ar_COO\": Descriptors.fr_Ar_COO,\n",
        "               \"fr_Ar_N\": Descriptors.fr_Ar_N,\n",
        "               \"fr_Ar_NH\": Descriptors.fr_Ar_NH,\n",
        "               \"fr_Ar_OH\": Descriptors.fr_Ar_OH,\n",
        "               \"fr_COO\": Descriptors.fr_COO,\n",
        "               \"fr_COO2\": Descriptors.fr_COO2,\n",
        "               \"fr_C_O\": Descriptors.fr_C_O,\n",
        "               \"fr_C_O_noCOO\": Descriptors.fr_C_O_noCOO,\n",
        "               \"fr_C_S\": Descriptors.fr_C_S,\n",
        "               \"fr_HOCCN\": Descriptors.fr_HOCCN,\n",
        "               \"fr_Imine\": Descriptors.fr_Imine,\n",
        "               \"fr_NH0\": Descriptors.fr_NH0,\n",
        "               \"fr_NH1\": Descriptors.fr_NH1,\n",
        "               \"fr_NH2\": Descriptors.fr_NH2,\n",
        "               \"fr_N_O\": Descriptors.fr_N_O,\n",
        "               \"fr_Ndealkylation1\": Descriptors.fr_Ndealkylation1,\n",
        "               \"fr_Ndealkylation2\": Descriptors.fr_Ndealkylation2,\n",
        "               \"fr_Nhpyrrole\": Descriptors.fr_Nhpyrrole,\n",
        "               \"fr_SH\": Descriptors.fr_SH,\n",
        "               \"fr_aldehyde\": Descriptors.fr_aldehyde,\n",
        "               \"fr_alkyl_carbamate\": Descriptors.fr_alkyl_carbamate,\n",
        "               \"fr_alkyl_halide\": Descriptors.fr_alkyl_halide,\n",
        "               \"fr_allylic_oxid\": Descriptors.fr_allylic_oxid,\n",
        "               \"fr_amide\": Descriptors.fr_amide,\n",
        "               \"fr_amidine\": Descriptors.fr_amidine,\n",
        "               \"fr_aniline\": Descriptors.fr_aniline,\n",
        "               \"fr_aryl_methyl\": Descriptors.fr_aryl_methyl,\n",
        "               \"fr_azide\": Descriptors.fr_azide,\n",
        "               \"fr_azo\": Descriptors.fr_azo,\n",
        "               \"fr_barbitur\": Descriptors.fr_barbitur,\n",
        "               \"fr_benzene\": Descriptors.fr_benzene,\n",
        "               \"fr_benzodiazepine\": Descriptors.fr_benzodiazepine,\n",
        "               \"fr_bicyclic\": Descriptors.fr_bicyclic,\n",
        "               \"fr_diazo\": Descriptors.fr_diazo,\n",
        "               \"fr_dihydropyridine\": Descriptors.fr_dihydropyridine,\n",
        "               \"fr_epoxide\": Descriptors.fr_epoxide,\n",
        "               \"fr_ester\": Descriptors.fr_ester,\n",
        "               \"fr_ether\": Descriptors.fr_ether,\n",
        "               \"fr_furan\": Descriptors.fr_furan,\n",
        "               \"fr_guanido\": Descriptors.fr_guanido,\n",
        "               \"fr_halogen\": Descriptors.fr_halogen,\n",
        "               \"fr_hdrzine\": Descriptors.fr_hdrzine,\n",
        "               \"fr_hdrzone\": Descriptors.fr_hdrzone,\n",
        "               \"fr_imidazole\": Descriptors.fr_imidazole,\n",
        "               \"fr_imide\": Descriptors.fr_imide,\n",
        "               \"fr_isocyan\": Descriptors.fr_isocyan,\n",
        "               \"fr_isothiocyan\": Descriptors.fr_isothiocyan,\n",
        "               \"fr_ketone\": Descriptors.fr_ketone,\n",
        "               \"fr_ketone_Topliss\": Descriptors.fr_ketone_Topliss,\n",
        "               \"fr_lactam\": Descriptors.fr_lactam,\n",
        "               \"fr_lactone\": Descriptors.fr_lactone,\n",
        "               \"fr_methoxy\": Descriptors.fr_methoxy,\n",
        "               \"fr_morpholine\": Descriptors.fr_morpholine,\n",
        "               \"fr_nitrile\": Descriptors.fr_nitrile,\n",
        "               \"fr_nitro\": Descriptors.fr_nitro,\n",
        "               \"fr_nitro_arom\": Descriptors.fr_nitro_arom,\n",
        "               \"fr_nitro_arom_nonortho\": Descriptors.fr_nitro_arom_nonortho,\n",
        "               \"fr_nitroso\": Descriptors.fr_nitroso,\n",
        "               \"fr_oxazole\": Descriptors.fr_oxazole,\n",
        "               \"fr_oxime\": Descriptors.fr_oxime,\n",
        "               \"fr_para_hydroxylation\": Descriptors.fr_para_hydroxylation,\n",
        "               \"fr_phenol\": Descriptors.fr_phenol,\n",
        "               \"fr_phenol_noOrthoHbond\": Descriptors.fr_phenol_noOrthoHbond,\n",
        "               \"fr_phos_acid\": Descriptors.fr_phos_acid,\n",
        "               \"fr_phos_ester\": Descriptors.fr_phos_ester,\n",
        "               \"fr_piperdine\": Descriptors.fr_piperdine,\n",
        "               \"fr_piperzine\": Descriptors.fr_piperzine,\n",
        "               \"fr_priamide\": Descriptors.fr_priamide,\n",
        "               \"fr_prisulfonamd\": Descriptors.fr_prisulfonamd,\n",
        "               \"fr_pyridine\": Descriptors.fr_pyridine,\n",
        "               \"fr_quatN\": Descriptors.fr_quatN,\n",
        "               \"fr_sulfide\": Descriptors.fr_sulfide,\n",
        "               \"fr_sulfonamd\": Descriptors.fr_sulfonamd,\n",
        "               #\"fr_sulfone\": Descriptors.fr_sulfone,\n",
        "               \"fr_term_acetylene\": Descriptors.fr_term_acetylene,\n",
        "               \"fr_tetrazole\": Descriptors.fr_tetrazole,\n",
        "               \"fr_thiazole\": Descriptors.fr_thiazole,\n",
        "               #\"fr_thiocyan\": Descriptors.fr_thiocyan,\n",
        "               \"fr_thiophene\": Descriptors.fr_thiophene,\n",
        "               \"fr_unbrch_alkane\": Descriptors.fr_unbrch_alkane,\n",
        "               \"fr_urea\": Descriptors.fr_urea\n",
        "               }\n",
        "# sklearn трансформер для использования в конвейерном моделировании\n",
        "descriptors_transformer = FunctionTransformer(mol_dsc_calc)\n",
        "X = descriptors_transformer.transform(data['SMILES'])"
      ],
      "metadata": {
        "id": "nFJ1_ata3_4Z"
      },
      "execution_count": null,
      "outputs": []
    },
    {
      "cell_type": "code",
      "source": [
        "#x = data.iloc[:, 4:7]\n",
        "#X = pd.concat([x, X], axis=1)\n",
        "X = X.dropna()\n",
        "pca = PCA(n_components=10)\n",
        "ts = TSNE(n_components=32)\n",
        "x = pca.fit_transform(X)"
      ],
      "metadata": {
        "id": "u1Ng3IOgSqPz"
      },
      "execution_count": null,
      "outputs": []
    },
    {
      "cell_type": "code",
      "source": [
        "y = data.iloc[0:1206, 3].values.reshape((-1,1))\n",
        "y.shape"
      ],
      "metadata": {
        "colab": {
          "base_uri": "https://localhost:8080/"
        },
        "id": "_4llSAn0Nmr_",
        "outputId": "9686dbf6-1f4c-4816-e8af-1e605a112434"
      },
      "execution_count": null,
      "outputs": [
        {
          "output_type": "execute_result",
          "data": {
            "text/plain": [
              "(1206, 1)"
            ]
          },
          "metadata": {},
          "execution_count": 151
        }
      ]
    },
    {
      "cell_type": "code",
      "source": [
        "x_train, x_test, y_train, y_test = train_test_split(x, y, test_size=0.25, random_state=33)\n",
        "x_train, x_valid, y_train, y_valid = train_test_split(x_train, y_train,  test_size=0.2, random_state=33)\n",
        "scaler = StandardScaler()\n",
        "y_train = scaler.fit_transform(y_train)\n",
        "y_test = scaler.transform(y_test)\n",
        "y_valid = scaler.transform(y_valid)\n",
        "type(y_train)"
      ],
      "metadata": {
        "colab": {
          "base_uri": "https://localhost:8080/"
        },
        "id": "s66QgYE83f3k",
        "outputId": "5d0826ac-2aec-40ce-d4fd-16b453caa61b"
      },
      "execution_count": null,
      "outputs": [
        {
          "output_type": "execute_result",
          "data": {
            "text/plain": [
              "numpy.ndarray"
            ]
          },
          "metadata": {},
          "execution_count": 153
        }
      ]
    },
    {
      "cell_type": "code",
      "source": [
        "logreg = LinearRegression()\n",
        "logreg.fit(x_train, y_train)\n",
        "#for i in range(302):\n",
        "#   print(logreg.predict(x_test)[i], \"    \", y_test[i])\n",
        "print(r2_score(logreg.predict(x_test), y_test))"
      ],
      "metadata": {
        "colab": {
          "base_uri": "https://localhost:8080/"
        },
        "id": "WMN-Ww5WWGdD",
        "outputId": "27318294-bf3c-43d2-ef89-2f4c578f15c3"
      },
      "execution_count": null,
      "outputs": [
        {
          "output_type": "stream",
          "name": "stdout",
          "text": [
            "-24.468398604470142\n"
          ]
        }
      ]
    },
    {
      "cell_type": "code",
      "source": [
        "cv = RepeatedKFold(n_splits=7 , n_repeats= 3 , random_state= 1 )\n",
        "model = LassoCV(alphas= (0.0, 1.0, 0.5), cv=cv, n_jobs=-1)\n",
        "model.fit(x_train, y_train)\n",
        "print(r2_score(model.predict(x_test), y_test))"
      ],
      "metadata": {
        "colab": {
          "base_uri": "https://localhost:8080/"
        },
        "id": "88ha9cPjdpHD",
        "outputId": "8aefc38b-b651-45ac-ed8c-bffdebceb556"
      },
      "execution_count": null,
      "outputs": [
        {
          "output_type": "stream",
          "name": "stdout",
          "text": [
            "-50.05682693632969\n"
          ]
        },
        {
          "output_type": "stream",
          "name": "stderr",
          "text": [
            "/usr/local/lib/python3.10/dist-packages/sklearn/linear_model/_coordinate_descent.py:1568: DataConversionWarning: A column-vector y was passed when a 1d array was expected. Please change the shape of y to (n_samples, ), for example using ravel().\n",
            "  y = column_or_1d(y, warn=True)\n",
            "/usr/local/lib/python3.10/dist-packages/sklearn/linear_model/_coordinate_descent.py:617: UserWarning: Coordinate descent without L1 regularization may lead to unexpected results and is discouraged. Set l1_ratio > 0 to add L1 regularization.\n",
            "  model = cd_fast.enet_coordinate_descent_gram(\n",
            "/usr/local/lib/python3.10/dist-packages/sklearn/linear_model/_coordinate_descent.py:617: ConvergenceWarning: Objective did not converge. You might want to increase the number of iterations. Duality gap: 309.93046934218154, tolerance: 0.06426402849446904\n",
            "  model = cd_fast.enet_coordinate_descent_gram(\n",
            "/usr/local/lib/python3.10/dist-packages/sklearn/linear_model/_coordinate_descent.py:617: UserWarning: Coordinate descent without L1 regularization may lead to unexpected results and is discouraged. Set l1_ratio > 0 to add L1 regularization.\n",
            "  model = cd_fast.enet_coordinate_descent_gram(\n",
            "/usr/local/lib/python3.10/dist-packages/sklearn/linear_model/_coordinate_descent.py:617: ConvergenceWarning: Objective did not converge. You might want to increase the number of iterations. Duality gap: 321.8033237859402, tolerance: 0.06653366673044425\n",
            "  model = cd_fast.enet_coordinate_descent_gram(\n",
            "/usr/local/lib/python3.10/dist-packages/sklearn/linear_model/_coordinate_descent.py:617: UserWarning: Coordinate descent without L1 regularization may lead to unexpected results and is discouraged. Set l1_ratio > 0 to add L1 regularization.\n",
            "  model = cd_fast.enet_coordinate_descent_gram(\n",
            "/usr/local/lib/python3.10/dist-packages/sklearn/linear_model/_coordinate_descent.py:617: UserWarning: Coordinate descent without L1 regularization may lead to unexpected results and is discouraged. Set l1_ratio > 0 to add L1 regularization.\n",
            "  model = cd_fast.enet_coordinate_descent_gram(\n",
            "/usr/local/lib/python3.10/dist-packages/sklearn/linear_model/_coordinate_descent.py:617: UserWarning: Coordinate descent without L1 regularization may lead to unexpected results and is discouraged. Set l1_ratio > 0 to add L1 regularization.\n",
            "  model = cd_fast.enet_coordinate_descent_gram(\n",
            "/usr/local/lib/python3.10/dist-packages/sklearn/linear_model/_coordinate_descent.py:617: ConvergenceWarning: Objective did not converge. You might want to increase the number of iterations. Duality gap: 285.1676070081538, tolerance: 0.058866826886984885\n",
            "  model = cd_fast.enet_coordinate_descent_gram(\n",
            "/usr/local/lib/python3.10/dist-packages/sklearn/linear_model/_coordinate_descent.py:617: ConvergenceWarning: Objective did not converge. You might want to increase the number of iterations. Duality gap: 292.44376441403256, tolerance: 0.0599876795757347\n",
            "  model = cd_fast.enet_coordinate_descent_gram(\n",
            "/usr/local/lib/python3.10/dist-packages/sklearn/linear_model/_coordinate_descent.py:617: UserWarning: Coordinate descent without L1 regularization may lead to unexpected results and is discouraged. Set l1_ratio > 0 to add L1 regularization.\n",
            "  model = cd_fast.enet_coordinate_descent_gram(\n",
            "/usr/local/lib/python3.10/dist-packages/sklearn/linear_model/_coordinate_descent.py:617: ConvergenceWarning: Objective did not converge. You might want to increase the number of iterations. Duality gap: 306.51104936680855, tolerance: 0.06382171664196575\n",
            "  model = cd_fast.enet_coordinate_descent_gram(\n",
            "/usr/local/lib/python3.10/dist-packages/sklearn/linear_model/_coordinate_descent.py:617: UserWarning: Coordinate descent without L1 regularization may lead to unexpected results and is discouraged. Set l1_ratio > 0 to add L1 regularization.\n",
            "  model = cd_fast.enet_coordinate_descent_gram(\n",
            "/usr/local/lib/python3.10/dist-packages/sklearn/linear_model/_coordinate_descent.py:617: ConvergenceWarning: Objective did not converge. You might want to increase the number of iterations. Duality gap: 300.84746395104145, tolerance: 0.06243978308683216\n",
            "  model = cd_fast.enet_coordinate_descent_gram(\n",
            "/usr/local/lib/python3.10/dist-packages/sklearn/linear_model/_coordinate_descent.py:617: UserWarning: Coordinate descent without L1 regularization may lead to unexpected results and is discouraged. Set l1_ratio > 0 to add L1 regularization.\n",
            "  model = cd_fast.enet_coordinate_descent_gram(\n",
            "/usr/local/lib/python3.10/dist-packages/sklearn/linear_model/_coordinate_descent.py:617: UserWarning: Coordinate descent without L1 regularization may lead to unexpected results and is discouraged. Set l1_ratio > 0 to add L1 regularization.\n",
            "  model = cd_fast.enet_coordinate_descent_gram(\n",
            "/usr/local/lib/python3.10/dist-packages/sklearn/linear_model/_coordinate_descent.py:617: ConvergenceWarning: Objective did not converge. You might want to increase the number of iterations. Duality gap: 314.36373913807495, tolerance: 0.06530762656499225\n",
            "  model = cd_fast.enet_coordinate_descent_gram(\n",
            "/usr/local/lib/python3.10/dist-packages/sklearn/linear_model/_coordinate_descent.py:617: UserWarning: Coordinate descent without L1 regularization may lead to unexpected results and is discouraged. Set l1_ratio > 0 to add L1 regularization.\n",
            "  model = cd_fast.enet_coordinate_descent_gram(\n",
            "/usr/local/lib/python3.10/dist-packages/sklearn/linear_model/_coordinate_descent.py:617: UserWarning: Coordinate descent without L1 regularization may lead to unexpected results and is discouraged. Set l1_ratio > 0 to add L1 regularization.\n",
            "  model = cd_fast.enet_coordinate_descent_gram(\n",
            "/usr/local/lib/python3.10/dist-packages/sklearn/linear_model/_coordinate_descent.py:617: ConvergenceWarning: Objective did not converge. You might want to increase the number of iterations. Duality gap: 294.63094114778414, tolerance: 0.06084073155790309\n",
            "  model = cd_fast.enet_coordinate_descent_gram(\n",
            "/usr/local/lib/python3.10/dist-packages/sklearn/linear_model/_coordinate_descent.py:617: ConvergenceWarning: Objective did not converge. You might want to increase the number of iterations. Duality gap: 280.5240766590056, tolerance: 0.05828487937602869\n",
            "  model = cd_fast.enet_coordinate_descent_gram(\n",
            "/usr/local/lib/python3.10/dist-packages/sklearn/linear_model/_coordinate_descent.py:617: UserWarning: Coordinate descent without L1 regularization may lead to unexpected results and is discouraged. Set l1_ratio > 0 to add L1 regularization.\n",
            "  model = cd_fast.enet_coordinate_descent_gram(\n",
            "/usr/local/lib/python3.10/dist-packages/sklearn/linear_model/_coordinate_descent.py:617: UserWarning: Coordinate descent without L1 regularization may lead to unexpected results and is discouraged. Set l1_ratio > 0 to add L1 regularization.\n",
            "  model = cd_fast.enet_coordinate_descent_gram(\n",
            "/usr/local/lib/python3.10/dist-packages/sklearn/linear_model/_coordinate_descent.py:617: UserWarning: Coordinate descent without L1 regularization may lead to unexpected results and is discouraged. Set l1_ratio > 0 to add L1 regularization.\n",
            "  model = cd_fast.enet_coordinate_descent_gram(\n",
            "/usr/local/lib/python3.10/dist-packages/sklearn/linear_model/_coordinate_descent.py:617: UserWarning: Coordinate descent without L1 regularization may lead to unexpected results and is discouraged. Set l1_ratio > 0 to add L1 regularization.\n",
            "  model = cd_fast.enet_coordinate_descent_gram(\n",
            "/usr/local/lib/python3.10/dist-packages/sklearn/linear_model/_coordinate_descent.py:617: ConvergenceWarning: Objective did not converge. You might want to increase the number of iterations. Duality gap: 305.8822514234595, tolerance: 0.06325187041894025\n",
            "  model = cd_fast.enet_coordinate_descent_gram(\n",
            "/usr/local/lib/python3.10/dist-packages/sklearn/linear_model/_coordinate_descent.py:617: ConvergenceWarning: Objective did not converge. You might want to increase the number of iterations. Duality gap: 320.1656633799646, tolerance: 0.06623177744280138\n",
            "  model = cd_fast.enet_coordinate_descent_gram(\n",
            "/usr/local/lib/python3.10/dist-packages/sklearn/linear_model/_coordinate_descent.py:617: UserWarning: Coordinate descent without L1 regularization may lead to unexpected results and is discouraged. Set l1_ratio > 0 to add L1 regularization.\n",
            "  model = cd_fast.enet_coordinate_descent_gram(\n",
            "/usr/local/lib/python3.10/dist-packages/sklearn/linear_model/_coordinate_descent.py:617: UserWarning: Coordinate descent without L1 regularization may lead to unexpected results and is discouraged. Set l1_ratio > 0 to add L1 regularization.\n",
            "  model = cd_fast.enet_coordinate_descent_gram(\n",
            "/usr/local/lib/python3.10/dist-packages/sklearn/linear_model/_coordinate_descent.py:617: ConvergenceWarning: Objective did not converge. You might want to increase the number of iterations. Duality gap: 275.1235597118302, tolerance: 0.05754203746206046\n",
            "  model = cd_fast.enet_coordinate_descent_gram(\n",
            "/usr/local/lib/python3.10/dist-packages/sklearn/linear_model/_coordinate_descent.py:617: UserWarning: Coordinate descent without L1 regularization may lead to unexpected results and is discouraged. Set l1_ratio > 0 to add L1 regularization.\n",
            "  model = cd_fast.enet_coordinate_descent_gram(\n",
            "/usr/local/lib/python3.10/dist-packages/sklearn/linear_model/_coordinate_descent.py:617: UserWarning: Coordinate descent without L1 regularization may lead to unexpected results and is discouraged. Set l1_ratio > 0 to add L1 regularization.\n",
            "  model = cd_fast.enet_coordinate_descent_gram(\n",
            "/usr/local/lib/python3.10/dist-packages/sklearn/linear_model/_coordinate_descent.py:617: UserWarning: Coordinate descent without L1 regularization may lead to unexpected results and is discouraged. Set l1_ratio > 0 to add L1 regularization.\n",
            "  model = cd_fast.enet_coordinate_descent_gram(\n",
            "/usr/local/lib/python3.10/dist-packages/sklearn/linear_model/_coordinate_descent.py:617: ConvergenceWarning: Objective did not converge. You might want to increase the number of iterations. Duality gap: 297.91018001582813, tolerance: 0.06151843979617983\n",
            "  model = cd_fast.enet_coordinate_descent_gram(\n",
            "/usr/local/lib/python3.10/dist-packages/sklearn/linear_model/_coordinate_descent.py:617: ConvergenceWarning: Objective did not converge. You might want to increase the number of iterations. Duality gap: 296.06035058436544, tolerance: 0.061494907392049186\n",
            "  model = cd_fast.enet_coordinate_descent_gram(\n",
            "/usr/local/lib/python3.10/dist-packages/sklearn/linear_model/_coordinate_descent.py:617: UserWarning: Coordinate descent without L1 regularization may lead to unexpected results and is discouraged. Set l1_ratio > 0 to add L1 regularization.\n",
            "  model = cd_fast.enet_coordinate_descent_gram(\n",
            "/usr/local/lib/python3.10/dist-packages/sklearn/linear_model/_coordinate_descent.py:617: ConvergenceWarning: Objective did not converge. You might want to increase the number of iterations. Duality gap: 312.92193380824534, tolerance: 0.06478776337913815\n",
            "  model = cd_fast.enet_coordinate_descent_gram(\n"
          ]
        }
      ]
    },
    {
      "cell_type": "code",
      "source": [
        "params = {\n",
        "    \"n_estimators\": 300,\n",
        "    \"max_depth\": 44,\n",
        "    \"min_samples_split\": 5,\n",
        "    \"learning_rate\": 0.01,\n",
        "    \"loss\": \"squared_error\",\n",
        "}\n",
        "reg = ensemble.GradientBoostingRegressor(**params)\n",
        "reg.fit(x_train, y_train)\n",
        "\n",
        "mse = mean_squared_error(y_test, reg.predict(x_test))\n",
        "print(\"The mean squared error (MSE) on test set: {:.4f}\".format(mse))"
      ],
      "metadata": {
        "colab": {
          "base_uri": "https://localhost:8080/"
        },
        "id": "0G8lVML6lvQY",
        "outputId": "968eb597-7ab1-4354-a2f1-87d83a8e626b"
      },
      "execution_count": null,
      "outputs": [
        {
          "output_type": "stream",
          "name": "stderr",
          "text": [
            "/usr/local/lib/python3.10/dist-packages/sklearn/ensemble/_gb.py:437: DataConversionWarning: A column-vector y was passed when a 1d array was expected. Please change the shape of y to (n_samples, ), for example using ravel().\n",
            "  y = column_or_1d(y, warn=True)\n"
          ]
        },
        {
          "output_type": "stream",
          "name": "stdout",
          "text": [
            "The mean squared error (MSE) on test set: 1.2326\n"
          ]
        }
      ]
    },
    {
      "cell_type": "code",
      "source": [
        "test_score = np.zeros((params[\"n_estimators\"],), dtype=np.float64)\n",
        "for i, y_pred in enumerate(reg.staged_predict(x_test)):\n",
        "    test_score[i] = mean_squared_error(y_test, y_pred)\n",
        "\n",
        "fig = plt.figure(figsize=(6, 6))\n",
        "plt.subplot(1, 1, 1)\n",
        "plt.title(\"Deviance\")\n",
        "plt.plot(\n",
        "    np.arange(params[\"n_estimators\"]) + 1,\n",
        "    reg.train_score_,\n",
        "    \"b-\",\n",
        "    label=\"Training Set Deviance\",\n",
        ")\n",
        "plt.plot(\n",
        "    np.arange(params[\"n_estimators\"]) + 1, test_score, \"r-\", label=\"Test Set Deviance\"\n",
        ")\n",
        "plt.legend(loc=\"upper right\")\n",
        "plt.xlabel(\"Boosting Iterations\")\n",
        "plt.ylabel(\"Deviance\")\n",
        "fig.tight_layout()\n",
        "plt.show()"
      ],
      "metadata": {
        "colab": {
          "base_uri": "https://localhost:8080/",
          "height": 607
        },
        "id": "gwCKM13Zm8hH",
        "outputId": "301b9008-a24a-43ab-e91f-33469104f21a"
      },
      "execution_count": null,
      "outputs": [
        {
          "output_type": "display_data",
          "data": {
            "text/plain": [
              "<Figure size 600x600 with 1 Axes>"
            ],
            "image/png": "[encoded data removed]"
          },
          "metadata": {}
        }
      ]
    },
    {
      "cell_type": "code",
      "source": [
        "df_w = df[[ 'IC50, mmg/ml', 'SMILES']]"
      ],
      "metadata": {
        "id": "ERHFtc4PPmoP"
      },
      "execution_count": null,
      "outputs": []
    },
    {
      "cell_type": "code",
      "source": [
        "PandasTools.AddMoleculeColumnToFrame(df_w,'SMILES','Molecule')\n",
        "df_w[[\"SMILES\",\"Molecule\"]]\n",
        "smivec = SmilesVectorizer(pad=1, leftpad=True, canonical=False, augment=True)\n",
        "smivec.fit(df_w.Molecule.values, )\n",
        "train_dataset = SMILESMolDataset(x_train, y_train, smivec)\n",
        "device = torch.device(\"cuda:0\" if torch.cuda.is_available() else \"cpu\")\n",
        "print(device)"
      ],
      "metadata": {
        "colab": {
          "base_uri": "https://localhost:8080/"
        },
        "id": "l2fn_GShHJWk",
        "outputId": "cb6449b7-0f17-4471-e601-422f2c70c01b"
      },
      "execution_count": null,
      "outputs": [
        {
          "output_type": "stream",
          "name": "stderr",
          "text": [
            "/usr/local/lib/python3.10/dist-packages/rdkit/Chem/PandasTools.py:371: SettingWithCopyWarning: \n",
            "A value is trying to be set on a copy of a slice from a DataFrame.\n",
            "Try using .loc[row_indexer,col_indexer] = value instead\n",
            "\n",
            "See the caveats in the documentation: https://pandas.pydata.org/pandas-docs/stable/user_guide/indexing.html#returning-a-view-versus-a-copy\n",
            "  frame[molCol] = frame[smilesCol].map(Chem.MolFromSmiles)\n"
          ]
        },
        {
          "output_type": "stream",
          "name": "stdout",
          "text": [
            "cpu\n"
          ]
        }
      ]
    },
    {
      "cell_type": "code",
      "source": [
        "X = df_w.Molecule.values\n",
        "X = X[0:1206]\n",
        "X_train, X_test, y_train, y_test = train_test_split(X, y,  test_size=0.25, random_state=42)\n",
        "X_train, X_validation, y_train, y_validation = train_test_split(X_train, y_train,  test_size=0.2, random_state=42)\n",
        "#Normalizing output using standard scaling\n",
        "scaler = StandardScaler()\n",
        "y_train = scaler.fit_transform(y_train)\n",
        "y_test = scaler.transform(y_test)\n",
        "y_validation = scaler.transform(y_validation)"
      ],
      "metadata": {
        "colab": {
          "base_uri": "https://localhost:8080/"
        },
        "id": "c_Lz5UoOUwXo",
        "outputId": "578bc0ea-f9ee-494b-a40b-ff3a94e87134"
      },
      "execution_count": null,
      "outputs": [
        {
          "output_type": "execute_result",
          "data": {
            "text/plain": [
              "array([<rdkit.Chem.rdchem.Mol object at 0x79ab8a565310>,\n",
              "       <rdkit.Chem.rdchem.Mol object at 0x79ab8a564b30>,\n",
              "       <rdkit.Chem.rdchem.Mol object at 0x79ab8a565000>, ...,\n",
              "       <rdkit.Chem.rdchem.Mol object at 0x79ab8a5bde70>,\n",
              "       <rdkit.Chem.rdchem.Mol object at 0x79ab8a5bdee0>,\n",
              "       <rdkit.Chem.rdchem.Mol object at 0x79ab8a5bdf50>], dtype=object)"
            ]
          },
          "metadata": {},
          "execution_count": 76
        }
      ]
    },
    {
      "cell_type": "code",
      "source": [
        "X_validation_t = smivec.transform(X_validation, canonical=False)\n",
        "X_validation_t = torch.tensor(X_validation_t, device=device).float()\n",
        "y_validation_t = torch.tensor(y_valid, device=device).float()\n",
        "y_validation_t = torch.nan_to_num(y_validation_t, nan = torch.nanmean(y_validation_t))\n",
        "X_validation_t.shape"
      ],
      "metadata": {
        "colab": {
          "base_uri": "https://localhost:8080/"
        },
        "id": "h-bgZa0yUTme",
        "outputId": "5ea706a2-3e99-40cd-b748-bdbc810c3b49"
      },
      "execution_count": null,
      "outputs": [
        {
          "output_type": "execute_result",
          "data": {
            "text/plain": [
              "torch.Size([181, 130, 40])"
            ]
          },
          "metadata": {},
          "execution_count": 75
        }
      ]
    }
  ]
}